{
 "cells": [
  {
   "cell_type": "markdown",
   "metadata": {},
   "source": [
    "# TensorFlow Basics\n",
    "\n",
    "\n",
    "Tagline: An open source software library for Machine Intelligence \n",
    "\n",
    "Peoples are using TensorFlow than other numerical computation libraries such as NumPy because of it's performance compared to others and API such as automatic differentiation which is not available with librares such as NumPy. But it comes with a cost which is harder to be grasp. \n",
    "\n",
    "Definition:\n",
    "TensorFlow is an open source software library for numerical computation using data flow graphs. Nodes in the graph represent mathematical operations, while the graph edges represent the multidimensional data arrays (tensors) communicated between them. The flexible architecture allows you to deploy computation to one or more CPUs or GPUs in a desktop, server, or mobile device with a single API. TensorFlow was originally developed by researchers and engineers working on the Google Brain Team within Google's Machine Intelligence research organization for the purposes of conducting machine learning and deep neural networks research, but the system is general enough to be applicable in a wide variety of other domains as well.\n",
    "\n",
    "\n",
    "\n",
    "*** TensorFlow provides an extensive suite of functions and classes that allow users to define models from scratch. Some high level API: Keras, TFLearn, Pretty Tensor ***\n",
    "\n",
    "Let's start with simple example:"
   ]
  },
  {
   "cell_type": "markdown",
   "metadata": {},
   "source": [
    "First, let's see how NumPy doing the calculation:"
   ]
  },
  {
   "cell_type": "code",
   "execution_count": 1,
   "metadata": {},
   "outputs": [
    {
     "name": "stdout",
     "output_type": "stream",
     "text": [
      "[[  0.79864132  -2.92494169   2.15749021   0.43238863  -1.22440948\n",
      "    2.70239971   6.39052641  -4.77447523  -2.14256926  -3.95851203]\n",
      " [ -1.73917544   0.79896862   4.09788311  -4.49180321  -3.29304679\n",
      "    4.00066707   1.16896964  -3.3800288    3.3051081   -4.36863649]\n",
      " [  0.34817725   0.45814296   0.45039137   2.59341945  -0.0882901\n",
      "   -2.0748372   -2.8045185    5.18790623  -1.1000049    1.87535305]\n",
      " [  0.79568601  -3.08648656  -0.2095649    3.17445412   0.22162795\n",
      "   -0.95796808  -1.55527268   2.86115215  -1.22661464  -7.33648561]\n",
      " [ -1.7145698   -0.91450728   1.71770563   3.47453904  -3.47483777\n",
      "    5.18585771  -4.1768278    4.1060129    0.11398739  -2.54284014]\n",
      " [  4.58247912  -2.03480258  -2.93339815  -0.35774426   1.82220835\n",
      "   -7.91056653   0.84872166   1.20382397   0.62028544   2.22869093]\n",
      " [ -1.91568283   1.59859883  -0.70810805   2.10942531  -2.13853695\n",
      "    7.23741629  -0.35939676  -2.9773057   -0.13490675   0.02027615]\n",
      " [  3.41857987   3.08398607  -3.11282452  -1.06105848   4.62744111\n",
      "  -12.49698823   0.88148455   3.43205436  -1.8836271   16.18652982]\n",
      " [  1.35390377   0.20827685  -4.40407507   2.76611374   0.55602551\n",
      "   -1.36359808  -2.56071417  -0.48430319  -0.03648332   7.53500387]\n",
      " [  1.96581562   0.23451758   3.1774258   -2.26422565  -2.29909193\n",
      "    6.1534454    2.50198326  -0.25318664  -2.19007656  -3.64156851]]\n"
     ]
    }
   ],
   "source": [
    "import numpy as np\n",
    "\n",
    "x = np.random.normal(size=[10, 10])\n",
    "y = np.random.normal(size=[10, 10])\n",
    "z = np.dot(x, y)\n",
    "\n",
    "print(z)"
   ]
  },
  {
   "cell_type": "markdown",
   "metadata": {},
   "source": [
    "Now the same calculation but using TensorFlow:"
   ]
  },
  {
   "cell_type": "code",
   "execution_count": 2,
   "metadata": {},
   "outputs": [
    {
     "name": "stdout",
     "output_type": "stream",
     "text": [
      "[[ 1.38919055 -3.29116774 -0.90299618  0.51196492 -3.16564083 -1.44959283\n",
      "  -1.57662809  0.87347829  0.69279891  2.32820058]\n",
      " [ 0.93376535 -2.50095987  0.99220043 -0.74768162 -5.8233161  -0.53962106\n",
      "  -0.3932358   1.44146132  0.03110927 -2.23935223]\n",
      " [ 2.19249392 -0.83022958 -2.52283692  0.04073209  3.45099092 -1.32514\n",
      "   0.08514584 -4.93429136  0.28642789  0.49008313]\n",
      " [-4.00037098  1.56587291  1.78096271 -0.72725469 -3.82490349  2.24305415\n",
      "  -0.43331075 -1.42545247 -2.21652031  2.30477238]\n",
      " [ 1.55122268 -0.09182063 -2.95913458  3.70903206 -5.98783875 -3.21442151\n",
      "  -0.5555715   2.42660856  2.24476695  0.04709414]\n",
      " [-0.41760272  5.09402657 -0.01462525 -0.40302134  4.72959852  2.43338013\n",
      "  -1.13868022  2.53180957 -0.54858977  3.66948175]\n",
      " [ 0.07477707  0.88336062  4.93136215 -4.56826687  4.42805386  3.24167275\n",
      "   4.17551804 -5.42191982 -5.31983137 -4.69459152]\n",
      " [-1.9056071   0.13927814  1.86388159 -1.45403063  1.29842246  1.22508144\n",
      "   0.17838845 -1.41202021 -1.60341775 -0.68652427]\n",
      " [ 3.47810578  5.02352333 -6.53311253  5.88876009  0.85603774 -5.70005465\n",
      "  -1.62163138  4.02671289  6.60607004  1.14285731]\n",
      " [ 2.05418873  2.68720984  1.58163452  0.45926356  6.19774151 -2.0574398\n",
      "   3.19026089  1.38421583  1.10406137 -4.34756613]]\n"
     ]
    }
   ],
   "source": [
    "import tensorflow as tf\n",
    "\n",
    "x = tf.random_normal([10, 10])\n",
    "y = tf.random_normal([10, 10])\n",
    "z = tf.matmul(x, y)\n",
    "\n",
    "sess = tf.Session()\n",
    "z_val = sess.run(z)\n",
    "\n",
    "print(z_val)"
   ]
  },
  {
   "cell_type": "markdown",
   "metadata": {},
   "source": [
    "When we check the `z` value in NumPy calculation, it will show us the value directly but not when we are using TensorFlow. If we try printing the value `z` directly we will get something like this :"
   ]
  },
  {
   "cell_type": "code",
   "execution_count": 3,
   "metadata": {},
   "outputs": [
    {
     "name": "stdout",
     "output_type": "stream",
     "text": [
      "Tensor(\"MatMul:0\", shape=(10, 10), dtype=float32)\n"
     ]
    }
   ],
   "source": [
    "print(z)"
   ]
  },
  {
   "cell_type": "markdown",
   "metadata": {},
   "source": [
    "Since both `x` and `y` have a fully defined shape, TensorFlow is able to infer the shape of the tensor as well as its type. In order to compute the value, we need to create a `Session` and evaluate it using `Session.run()` method."
   ]
  },
  {
   "cell_type": "markdown",
   "metadata": {},
   "source": [
    "## Lazy Instantiation \n",
    "Also known as `Lazy Loading`, basically it's a tactic to delay those expensive process, creation of object, or calculation of value until first time it needed the value. \n",
    "\n",
    "TensorFlow doesn't immediately run the operation that are defined but rather creates corresponding nodes in a graph that can be evaluated with `Session.run()` method. This also allow TensorFlow to do optimizations at run time to determine the optimal order of execution and possible trimming of unused nodes."
   ]
  },
  {
   "cell_type": "markdown",
   "metadata": {},
   "source": [
    "## Feeding data to Tensorflow\n",
    "TensorFlow is designed to work efficiently with large amount of data. So it's actually important not to starve your TensorFlow model in order to maximize its performance. Here are ways that you can feed your data to TensorFlow:\n",
    "- Constants\n",
    "- Placeholders\n",
    "- Variables"
   ]
  },
  {
   "cell_type": "markdown",
   "metadata": {},
   "source": [
    "## Constants\n",
    "Simplest approach to embed the data in your graph as constant. It's very efficient but not flexible. For example you might working with another dataset which need you to rewrite the graph. Also, you have to load all of your data at once and keep it in memory which would only work with small datasets."
   ]
  },
  {
   "cell_type": "code",
   "execution_count": 4,
   "metadata": {},
   "outputs": [],
   "source": [
    "import tensorflow as tf\n",
    "import numpy as np\n",
    "\n",
    "# Init arrays of floats randomly with size of 100\n",
    "actual_data = np.random.normal(size=[100])\n",
    "\n",
    "# Assigning tf constant with actual_data\n",
    "data = tf.constant(actual_data)"
   ]
  },
  {
   "cell_type": "code",
   "execution_count": 5,
   "metadata": {},
   "outputs": [
    {
     "data": {
      "text/plain": [
       "array([-2.11125327,  0.31116626, -0.44320385,  0.21424191, -1.30622647,\n",
       "       -1.45839005, -2.1262636 ,  0.86244901, -0.26924027,  2.0147088 ,\n",
       "       -0.282714  , -1.38328688, -0.62248338, -0.23936666,  1.03551652,\n",
       "       -0.93957741, -0.15013239, -1.23622204, -1.58400713,  1.16253377,\n",
       "       -0.34044783,  0.10251725,  1.1135783 , -0.44516114,  0.57088576,\n",
       "       -0.59209241, -1.61723396, -1.37417653, -0.317569  , -1.39653873,\n",
       "       -0.51558159, -0.79938789, -0.61654392,  0.16362517, -0.13190215,\n",
       "       -1.52326578, -1.23608603,  0.21165345,  0.61656848, -0.21257236,\n",
       "       -1.42540733,  0.6497701 , -0.38405807, -0.54743543, -0.75259004,\n",
       "       -0.7734046 , -0.87185913, -0.89581271, -0.67435721, -0.91149712,\n",
       "       -0.20432857,  0.95816556,  0.44313059,  0.81798368,  0.70447087,\n",
       "       -0.68699299,  1.308701  , -0.72944093,  0.95003788, -1.20570819,\n",
       "        1.29503729,  0.25851547, -1.90361648,  0.60129057,  3.03306857,\n",
       "        0.60238562, -1.80713167,  0.85687825, -1.1754875 ,  0.95568164,\n",
       "       -1.8057689 ,  0.45931636, -0.24480592, -1.13862179, -2.133729  ,\n",
       "        0.58296734, -0.43450991, -1.55590645, -1.1594497 ,  0.50869102,\n",
       "       -0.80022704, -0.18942087, -0.19494555,  1.59831441,  0.57873344,\n",
       "       -2.24087334,  0.95126955,  0.31714403, -0.18369988,  0.0756927 ,\n",
       "        0.06683013,  0.10809976,  1.133813  ,  0.54006696, -0.26591814,\n",
       "       -0.01309915, -0.90501102, -0.30580764,  0.16854734, -1.27226897])"
      ]
     },
     "execution_count": 5,
     "metadata": {},
     "output_type": "execute_result"
    }
   ],
   "source": [
    "# As usual, tf is lazy instatiation aka lazy loading\n",
    "sess = tf.Session()\n",
    "sess.run(data)"
   ]
  },
  {
   "cell_type": "markdown",
   "metadata": {},
   "source": [
    "## Placeholders\n",
    "Using placeholders solves problems by constant:"
   ]
  },
  {
   "cell_type": "code",
   "execution_count": 6,
   "metadata": {},
   "outputs": [
    {
     "name": "stdout",
     "output_type": "stream",
     "text": [
      "[ 1.29323496  0.04465758  0.18680406  0.05719432  1.52607832 -0.42247591\n",
      "  0.03733328  1.10707901 -0.81154696  1.51152253]\n"
     ]
    },
    {
     "data": {
      "text/plain": [
       "array([ 3.29323483,  2.04465747,  2.18680406,  2.05719423,  3.52607822,\n",
       "        1.57752407,  2.03733325,  3.10707903,  1.18845296,  3.51152253], dtype=float32)"
      ]
     },
     "execution_count": 6,
     "metadata": {},
     "output_type": "execute_result"
    }
   ],
   "source": [
    "import tensorflow as tf\n",
    "import numpy as np\n",
    "\n",
    "data = tf.placeholder(tf.float32)\n",
    "\n",
    "prediction = tf.add(data, 2)\n",
    "\n",
    "actual_data = np.random.normal(size=[10])\n",
    "\n",
    "print(actual_data)\n",
    "tf.Session().run(prediction, feed_dict={ data: actual_data })"
   ]
  },
  {
   "cell_type": "markdown",
   "metadata": {},
   "source": [
    "As TensorFlow is a lazy loading, the data need to be feed later through the `feed_dict` argument in `Session.run()` functon. Note that if we run `Session.run` without the value of data in this case will result in an error."
   ]
  },
  {
   "cell_type": "markdown",
   "metadata": {},
   "source": [
    "## Variables\n",
    "\n",
    "What we have done until now mostly are using `Constants` which the value can't be change. Unlike constants, variables can be updated. "
   ]
  },
  {
   "cell_type": "code",
   "execution_count": 7,
   "metadata": {},
   "outputs": [
    {
     "data": {
      "text/plain": [
       "3"
      ]
     },
     "execution_count": 7,
     "metadata": {},
     "output_type": "execute_result"
    }
   ],
   "source": [
    "import tensorflow as tf\n",
    "\n",
    "a = tf.constant(1)\n",
    "b = tf.constant(2)\n",
    "a = a + b\n",
    "\n",
    "tf.Session().run(a)"
   ]
  },
  {
   "cell_type": "markdown",
   "metadata": {},
   "source": [
    "We can't update the value."
   ]
  },
  {
   "cell_type": "code",
   "execution_count": 8,
   "metadata": {},
   "outputs": [
    {
     "ename": "AttributeError",
     "evalue": "'Tensor' object has no attribute 'assign'",
     "output_type": "error",
     "traceback": [
      "\u001b[0;31m---------------------------------------------------------------------------\u001b[0m",
      "\u001b[0;31mAttributeError\u001b[0m                            Traceback (most recent call last)",
      "\u001b[0;32m<ipython-input-8-39bd0ab3e3cf>\u001b[0m in \u001b[0;36m<module>\u001b[0;34m()\u001b[0m\n\u001b[1;32m      2\u001b[0m \u001b[0ma\u001b[0m \u001b[0;34m=\u001b[0m \u001b[0mtf\u001b[0m\u001b[0;34m.\u001b[0m\u001b[0mVariable\u001b[0m\u001b[0;34m(\u001b[0m\u001b[0;36m1\u001b[0m\u001b[0;34m)\u001b[0m\u001b[0;34m\u001b[0m\u001b[0m\n\u001b[1;32m      3\u001b[0m \u001b[0mb\u001b[0m \u001b[0;34m=\u001b[0m \u001b[0mtf\u001b[0m\u001b[0;34m.\u001b[0m\u001b[0mconstant\u001b[0m\u001b[0;34m(\u001b[0m\u001b[0;36m2\u001b[0m\u001b[0;34m)\u001b[0m\u001b[0;34m\u001b[0m\u001b[0m\n\u001b[0;32m----> 4\u001b[0;31m \u001b[0massign\u001b[0m \u001b[0;34m=\u001b[0m \u001b[0mtf\u001b[0m\u001b[0;34m.\u001b[0m\u001b[0massign\u001b[0m\u001b[0;34m(\u001b[0m\u001b[0mb\u001b[0m\u001b[0;34m,\u001b[0m \u001b[0ma\u001b[0m \u001b[0;34m+\u001b[0m \u001b[0mb\u001b[0m\u001b[0;34m)\u001b[0m\u001b[0;34m\u001b[0m\u001b[0m\n\u001b[0m\u001b[1;32m      5\u001b[0m \u001b[0;34m\u001b[0m\u001b[0m\n\u001b[1;32m      6\u001b[0m \u001b[0msess\u001b[0m \u001b[0;34m=\u001b[0m \u001b[0mtf\u001b[0m\u001b[0;34m.\u001b[0m\u001b[0mSession\u001b[0m\u001b[0;34m(\u001b[0m\u001b[0;34m)\u001b[0m\u001b[0;34m\u001b[0m\u001b[0m\n",
      "\u001b[0;32m/home/ubuntu/anaconda3/lib/python3.5/site-packages/tensorflow/python/ops/state_ops.py\u001b[0m in \u001b[0;36massign\u001b[0;34m(ref, value, validate_shape, use_locking, name)\u001b[0m\n\u001b[1;32m    275\u001b[0m         \u001b[0mref\u001b[0m\u001b[0;34m,\u001b[0m \u001b[0mvalue\u001b[0m\u001b[0;34m,\u001b[0m \u001b[0muse_locking\u001b[0m\u001b[0;34m=\u001b[0m\u001b[0muse_locking\u001b[0m\u001b[0;34m,\u001b[0m \u001b[0mname\u001b[0m\u001b[0;34m=\u001b[0m\u001b[0mname\u001b[0m\u001b[0;34m,\u001b[0m\u001b[0;34m\u001b[0m\u001b[0m\n\u001b[1;32m    276\u001b[0m         validate_shape=validate_shape)\n\u001b[0;32m--> 277\u001b[0;31m   \u001b[0;32mreturn\u001b[0m \u001b[0mref\u001b[0m\u001b[0;34m.\u001b[0m\u001b[0massign\u001b[0m\u001b[0;34m(\u001b[0m\u001b[0mvalue\u001b[0m\u001b[0;34m)\u001b[0m\u001b[0;34m\u001b[0m\u001b[0m\n\u001b[0m",
      "\u001b[0;31mAttributeError\u001b[0m: 'Tensor' object has no attribute 'assign'"
     ]
    }
   ],
   "source": [
    "# Error expected as constant can't be update/assign with new value\n",
    "a = tf.Variable(1)\n",
    "b = tf.constant(2)\n",
    "assign = tf.assign(b, a + b)\n",
    "\n",
    "sess = tf.Session()\n",
    "\n",
    "# Since we are using variables we first need to initialize them.\n",
    "sess.run(tf.global_variables_initializer())\n",
    "\n",
    "print(sess.run(assign))"
   ]
  },
  {
   "cell_type": "code",
   "execution_count": 9,
   "metadata": {},
   "outputs": [
    {
     "name": "stdout",
     "output_type": "stream",
     "text": [
      "3\n"
     ]
    }
   ],
   "source": [
    "# Successfully update `b` value\n",
    "a = tf.Variable(1)\n",
    "b = tf.constant(2)\n",
    "assign = tf.assign(a, a + b)\n",
    "\n",
    "sess = tf.Session()\n",
    "\n",
    "# Since we are using variables we first need to initialize them.\n",
    "sess.run(tf.global_variables_initializer())\n",
    "\n",
    "print(sess.run(assign))"
   ]
  },
  {
   "cell_type": "markdown",
   "metadata": {},
   "source": [
    "## Example #1 : Add 2 numbers\n",
    "First TensorFlow program. Let's try to add two numbers."
   ]
  },
  {
   "cell_type": "code",
   "execution_count": 10,
   "metadata": {},
   "outputs": [
    {
     "name": "stdout",
     "output_type": "stream",
     "text": [
      "7\n"
     ]
    }
   ],
   "source": [
    "import tensorflow as tf\n",
    "from datetime import datetime, timedelta\n",
    "\n",
    "a = tf.constant(2, name=\"constant_a\")\n",
    "b = tf.constant(5, name=\"constant_b\")\n",
    "c = tf.add(a,b, name=\"add_ab\")\n",
    "\n",
    "summ_path = \"./tensorflow_logs/example_1/\" + datetime.now().strftime(\"%Y%m%d-%H%M%S\") \n",
    "\n",
    "sess = tf.Session()\n",
    "writer = tf.summary.FileWriter(summ_path, sess.graph)\n",
    "c_val = sess.run(c)\n",
    "writer.close()\n",
    "\n",
    "print(c_val)"
   ]
  },
  {
   "cell_type": "markdown",
   "metadata": {},
   "source": [
    "## Example #2 : Linear Regression (Boston House Price Data)"
   ]
  },
  {
   "cell_type": "code",
   "execution_count": 11,
   "metadata": {},
   "outputs": [],
   "source": [
    "import tensorflow as tf\n",
    "import numpy as np\n",
    "\n",
    "import matplotlib\n",
    "import matplotlib.pyplot as plt\n",
    "\n",
    "from tensorflow.contrib import learn\n",
    "from sklearn import cross_validation\n",
    "from sklearn import preprocessing\n",
    "from sklearn import metrics\n",
    "from __future__ import print_function"
   ]
  },
  {
   "cell_type": "code",
   "execution_count": 12,
   "metadata": {},
   "outputs": [
    {
     "name": "stdout",
     "output_type": "stream",
     "text": [
      "(506, 13)\n",
      "(506,)\n"
     ]
    }
   ],
   "source": [
    "# As TF already have the boston data\n",
    "boston = learn.datasets.load_dataset('boston')\n",
    "\n",
    "x, y = boston.data, boston.target\n",
    "print(x.shape)\n",
    "print(y.shape)"
   ]
  },
  {
   "cell_type": "code",
   "execution_count": 13,
   "metadata": {},
   "outputs": [
    {
     "name": "stdout",
     "output_type": "stream",
     "text": [
      "(102, 13)\n",
      "(102,)\n",
      "(404, 13)\n",
      "(404,)\n"
     ]
    }
   ],
   "source": [
    "# Split the data for test and training\n",
    "# random_state is the seed number\n",
    "train_x, test_x, train_y, test_y = cross_validation.train_test_split(x, y, test_size=0.2, random_state=42)\n",
    "print(test_x.shape)\n",
    "print(test_y.shape)\n",
    "print(train_x.shape)\n",
    "print(train_y.shape)"
   ]
  },
  {
   "cell_type": "code",
   "execution_count": 14,
   "metadata": {},
   "outputs": [
    {
     "name": "stderr",
     "output_type": "stream",
     "text": [
      "/home/ubuntu/anaconda3/lib/python3.5/site-packages/sklearn/preprocessing/data.py:583: DeprecationWarning: Passing 1d arrays as data is deprecated in 0.17 and will raise ValueError in 0.19. Reshape your data either using X.reshape(-1, 1) if your data has a single feature or X.reshape(1, -1) if it contains a single sample.\n",
      "  warnings.warn(DEPRECATION_MSG_1D, DeprecationWarning)\n",
      "/home/ubuntu/anaconda3/lib/python3.5/site-packages/sklearn/preprocessing/data.py:646: DeprecationWarning: Passing 1d arrays as data is deprecated in 0.17 and will raise ValueError in 0.19. Reshape your data either using X.reshape(-1, 1) if your data has a single feature or X.reshape(1, -1) if it contains a single sample.\n",
      "  warnings.warn(DEPRECATION_MSG_1D, DeprecationWarning)\n",
      "/home/ubuntu/anaconda3/lib/python3.5/site-packages/sklearn/preprocessing/data.py:583: DeprecationWarning: Passing 1d arrays as data is deprecated in 0.17 and will raise ValueError in 0.19. Reshape your data either using X.reshape(-1, 1) if your data has a single feature or X.reshape(1, -1) if it contains a single sample.\n",
      "  warnings.warn(DEPRECATION_MSG_1D, DeprecationWarning)\n",
      "/home/ubuntu/anaconda3/lib/python3.5/site-packages/sklearn/preprocessing/data.py:646: DeprecationWarning: Passing 1d arrays as data is deprecated in 0.17 and will raise ValueError in 0.19. Reshape your data either using X.reshape(-1, 1) if your data has a single feature or X.reshape(1, -1) if it contains a single sample.\n",
      "  warnings.warn(DEPRECATION_MSG_1D, DeprecationWarning)\n"
     ]
    }
   ],
   "source": [
    "# Preprocessing\n",
    "# Scale down the numbers using standardization\n",
    "scaler = preprocessing.StandardScaler()\n",
    "train_x = scaler.fit_transform(train_x)\n",
    "test_x = scaler.fit_transform(test_x)\n",
    "train_y = scaler.fit_transform(train_y)\n",
    "test_y = scaler.fit_transform(test_y)\n",
    "\n",
    "# Seems like there are problems if we didn't reshape the `y` value\n",
    "train_y = train_y.reshape([-1, 1])\n",
    "test_y = test_y.reshape([-1, 1])"
   ]
  },
  {
   "cell_type": "code",
   "execution_count": 15,
   "metadata": {},
   "outputs": [],
   "source": [
    "# Create placeholder for inputs and outputs\n",
    "inputs = tf.placeholder(tf.float32, [None, 13], name=\"Input_X\")\n",
    "outputs = tf.placeholder(tf.float32, [None, 1], name=\"Y_Predict\")\n",
    "weights = tf.Variable(tf.zeros([13, 1]), name=\"Weights\")"
   ]
  },
  {
   "cell_type": "code",
   "execution_count": 16,
   "metadata": {},
   "outputs": [],
   "source": [
    "# Linear Regression Implementation\n",
    "learning_rate = 0.001\n",
    "training_epochs = 10000\n",
    "\n",
    "y_ = tf.matmul(inputs, weights)\n",
    "cost = tf.reduce_mean(tf.square(y_ - outputs), name=\"cost\")\n",
    "training_step = tf.train.GradientDescentOptimizer(learning_rate).minimize(cost)"
   ]
  },
  {
   "cell_type": "code",
   "execution_count": 20,
   "metadata": {},
   "outputs": [],
   "source": [
    "# Let's run it\n",
    "\n",
    "summ_path = \"./tensorflow_logs/example_2/\" + datetime.now().strftime(\"%Y%m%d-%H%M%S\") \n",
    "tf.summary.scalar(\"cost\", cost)\n",
    "summary_op = tf.summary.merge_all()\n",
    "\n",
    "sess = tf.Session()\n",
    "writer = tf.summary.FileWriter(summ_path, sess.graph)\n",
    "\n",
    "# Since we are using variables we first need to initialize them.\n",
    "init = tf.global_variables_initializer()\n",
    "sess.run(init)\n",
    "\n",
    "for epoch in range(training_epochs):\n",
    "    _, summary = sess.run([training_step, summary_op], feed_dict={ inputs: train_x, outputs: train_y })\n",
    "    writer.add_summary(summary, epoch)\n",
    "    \n",
    "writer.close()"
   ]
  },
  {
   "cell_type": "code",
   "execution_count": 21,
   "metadata": {},
   "outputs": [
    {
     "name": "stdout",
     "output_type": "stream",
     "text": [
      "MSE: 0.3328\n"
     ]
    }
   ],
   "source": [
    "# Calculating the MSE\n",
    "pred_y = sess.run(y_, feed_dict={ inputs: test_x })\n",
    "mse = tf.reduce_mean(tf.square(pred_y - test_y))\n",
    "print(\"MSE: %.4f\" % sess.run(mse)) "
   ]
  },
  {
   "cell_type": "code",
   "execution_count": 22,
   "metadata": {},
   "outputs": [
    {
     "data": {
      "image/png": "[encoded data removed]",
      "text/plain": [
       "<matplotlib.figure.Figure at 0x7f489c142400>"
      ]
     },
     "metadata": {},
     "output_type": "display_data"
    }
   ],
   "source": [
    "fig, ax = plt.subplots()\n",
    "ax.scatter(test_y, pred_y)\n",
    "ax.plot([test_y.min(), test_y.max()], [test_y.min(), test_y.max()], 'k--', lw=2)\n",
    "ax.set_xlabel('Measured')\n",
    "ax.set_ylabel('Predicted')\n",
    "plt.show()"
   ]
  },
  {
   "cell_type": "code",
   "execution_count": null,
   "metadata": {},
   "outputs": [],
   "source": []
  }
 ],
 "metadata": {
  "anaconda-cloud": {},
  "kernelspec": {
   "display_name": "Python [default]",
   "language": "python",
   "name": "python3"
  },
  "language_info": {
   "codemirror_mode": {
    "name": "ipython",
    "version": 3
   },
   "file_extension": ".py",
   "mimetype": "text/x-python",
   "name": "python",
   "nbconvert_exporter": "python",
   "pygments_lexer": "ipython3",
   "version": "3.5.2"
  }
 },
 "nbformat": 4,
 "nbformat_minor": 1
}
