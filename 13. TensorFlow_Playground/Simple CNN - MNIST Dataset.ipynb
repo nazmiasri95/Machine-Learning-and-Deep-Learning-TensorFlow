{
 "cells": [
  {
   "cell_type": "markdown",
   "metadata": {},
   "source": [
    "# Simple Convolutional Neural Network"
   ]
  },
  {
   "cell_type": "code",
   "execution_count": 1,
   "metadata": {},
   "outputs": [
    {
     "name": "stdout",
     "output_type": "stream",
     "text": [
      "Extracting MNIST_data/train-images-idx3-ubyte.gz\n",
      "Extracting MNIST_data/train-labels-idx1-ubyte.gz\n",
      "Extracting MNIST_data/t10k-images-idx3-ubyte.gz\n",
      "Extracting MNIST_data/t10k-labels-idx1-ubyte.gz\n"
     ]
    }
   ],
   "source": [
    "import numpy as np\n",
    "import tensorflow as tf\n",
    "\n",
    "from tensorflow.examples.tutorials.mnist import input_data\n",
    "mnist = input_data.read_data_sets('MNIST_data', one_hot=True)"
   ]
  },
  {
   "cell_type": "code",
   "execution_count": 6,
   "metadata": {},
   "outputs": [],
   "source": [
    "# Create placeholder for input and output\n",
    "# Placeholder because we use it for inserting data\n",
    "x = tf.placeholder(tf.float32, shape=[None, 784])\n",
    "y_ = tf.placeholder(tf.float32, shape=[None, 10])"
   ]
  },
  {
   "cell_type": "code",
   "execution_count": 2,
   "metadata": {},
   "outputs": [],
   "source": [
    "# Start Interactive Session\n",
    "sess = tf.InteractiveSession()"
   ]
  },
  {
   "cell_type": "code",
   "execution_count": 3,
   "metadata": {},
   "outputs": [],
   "source": [
    "# Weight Initialization\n",
    "def weight_variable(shape):\n",
    "    initial = tf.truncated_normal(shape, stddev=0.1)\n",
    "    return tf.Variable(initial)\n",
    "\n",
    "def bias_variable(shape):\n",
    "    initial = tf.constant(0.1, shape=shape)\n",
    "    return tf.Variable(initial)"
   ]
  },
  {
   "cell_type": "code",
   "execution_count": 4,
   "metadata": {},
   "outputs": [],
   "source": [
    "# Convolution and Pooling Layer\n",
    "def conv2d(x, W):\n",
    "    return tf.nn.conv2d(x, W, strides=[1, 1, 1, 1], padding='SAME')\n",
    "\n",
    "def max_pool_2x2(x):\n",
    "    return tf.nn.max_pool(x, ksize=[1, 2, 2, 1],\n",
    "                        strides=[1, 2, 2, 1], padding='SAME')"
   ]
  },
  {
   "cell_type": "markdown",
   "metadata": {},
   "source": [
    "### First Convolutional Layer"
   ]
  },
  {
   "cell_type": "code",
   "execution_count": 5,
   "metadata": {},
   "outputs": [],
   "source": [
    "# Initialize Weight and Bias\n",
    "W_conv1 = weight_variable([5, 5, 1, 32])\n",
    "b_conv1 = bias_variable([32])"
   ]
  },
  {
   "cell_type": "code",
   "execution_count": 7,
   "metadata": {},
   "outputs": [],
   "source": [
    "# Reshape the input x, into 4d tensor\n",
    "x_image = tf.reshape(x, [-1, 28, 28, 1])"
   ]
  },
  {
   "cell_type": "code",
   "execution_count": 8,
   "metadata": {},
   "outputs": [],
   "source": [
    "# In the hidden layer, we have convolutional and pooling layer\n",
    "# We convolve the input with weight, add to bias and apply ReLU function\n",
    "# Then we apply max pool\n",
    "h_conv1 = tf.nn.relu(conv2d(x_image, W_conv1) + b_conv1)\n",
    "h_pool1 = max_pool_2x2(h_conv1)"
   ]
  },
  {
   "cell_type": "markdown",
   "metadata": {},
   "source": [
    "### Second Convolutional Layer"
   ]
  },
  {
   "cell_type": "code",
   "execution_count": 9,
   "metadata": {},
   "outputs": [],
   "source": [
    "# Initialize Weight and Bias\n",
    "W_conv2 = weight_variable([5, 5, 32, 64])\n",
    "b_conv2 = bias_variable([64])"
   ]
  },
  {
   "cell_type": "code",
   "execution_count": 10,
   "metadata": {},
   "outputs": [],
   "source": [
    "# Continuation from previous layer,\n",
    "# We convolve the last output with weight, add to bias and apply ReLU function\n",
    "# Then we apply max pool\n",
    "h_conv2 = tf.nn.relu(conv2d(h_pool1, W_conv2) + b_conv2)\n",
    "h_pool2 = max_pool_2x2(h_conv2)"
   ]
  },
  {
   "cell_type": "markdown",
   "metadata": {},
   "source": [
    "### Dense Layer / Fully Connected Layer"
   ]
  },
  {
   "cell_type": "code",
   "execution_count": 11,
   "metadata": {},
   "outputs": [],
   "source": [
    "# Fully connected layer, with the last output size\n",
    "# We initialize the weight and bias first\n",
    "W_fc1 = weight_variable([7 * 7 * 64, 1024])\n",
    "b_fc1 = bias_variable([1024])"
   ]
  },
  {
   "cell_type": "code",
   "execution_count": 13,
   "metadata": {},
   "outputs": [],
   "source": [
    "# Then we flatten the output, and pass it to fully connected later\n",
    "# And we also apply ReLU to it\n",
    "h_pool2_flat = tf.reshape(h_pool2, [-1, 7*7*64])\n",
    "h_fc1 = tf.nn.relu(tf.matmul(h_pool2_flat, W_fc1) + b_fc1)"
   ]
  },
  {
   "cell_type": "markdown",
   "metadata": {},
   "source": [
    "### Dropout "
   ]
  },
  {
   "cell_type": "code",
   "execution_count": 14,
   "metadata": {},
   "outputs": [],
   "source": [
    "# Here we implement dropout\n",
    "# TensorFlow's dropout automatically handle the scaling neuron output\n",
    "keep_prob = tf.placeholder(tf.float32)\n",
    "h_fc1_drop = tf.nn.dropout(h_fc1, keep_prob)"
   ]
  },
  {
   "cell_type": "markdown",
   "metadata": {},
   "source": [
    "### Readout Layer"
   ]
  },
  {
   "cell_type": "code",
   "execution_count": 15,
   "metadata": {},
   "outputs": [],
   "source": [
    "# Classify the output into 10 classes\n",
    "# Define the weight and biases\n",
    "W_fc2 = weight_variable([1024, 10])\n",
    "b_fc2 = bias_variable([10])"
   ]
  },
  {
   "cell_type": "code",
   "execution_count": 16,
   "metadata": {},
   "outputs": [],
   "source": [
    "# Then we calculate the output\n",
    "y_conv = tf.matmul(h_fc1_drop, W_fc2) + b_fc2"
   ]
  },
  {
   "cell_type": "markdown",
   "metadata": {},
   "source": [
    "### Training and Evaluation of the model"
   ]
  },
  {
   "cell_type": "code",
   "execution_count": 17,
   "metadata": {},
   "outputs": [],
   "source": [
    "cross_entropy = tf.reduce_mean(\n",
    "    tf.nn.softmax_cross_entropy_with_logits(labels=y_, logits=y_conv))\n",
    "train_step = tf.train.AdamOptimizer(1e-4).minimize(cross_entropy)\n",
    "correct_prediction = tf.equal(tf.argmax(y_conv, 1), tf.argmax(y_, 1))\n",
    "accuracy = tf.reduce_mean(tf.cast(correct_prediction, tf.float32))"
   ]
  },
  {
   "cell_type": "code",
   "execution_count": 19,
   "metadata": {},
   "outputs": [
    {
     "name": "stdout",
     "output_type": "stream",
     "text": [
      "step 0, training accuracy 0.14\n",
      "test accuracy 0.1109\n",
      "test accuracy 0.094\n",
      "test accuracy 0.1303\n",
      "test accuracy 0.1468\n",
      "test accuracy 0.1553\n",
      "test accuracy 0.1556\n",
      "test accuracy 0.1492\n",
      "test accuracy 0.1516\n",
      "test accuracy 0.1563\n",
      "test accuracy 0.1631\n",
      "test accuracy 0.1741\n",
      "test accuracy 0.1909\n",
      "test accuracy 0.2146\n",
      "test accuracy 0.2535\n",
      "test accuracy 0.2922\n",
      "test accuracy 0.3356\n",
      "test accuracy 0.3747\n",
      "test accuracy 0.4059\n",
      "test accuracy 0.416\n",
      "test accuracy 0.4274\n",
      "test accuracy 0.4374\n",
      "test accuracy 0.4559\n",
      "test accuracy 0.4774\n",
      "test accuracy 0.4884\n",
      "test accuracy 0.4894\n",
      "test accuracy 0.4876\n",
      "test accuracy 0.485\n",
      "test accuracy 0.4929\n",
      "test accuracy 0.4993\n",
      "test accuracy 0.5181\n",
      "test accuracy 0.5343\n",
      "test accuracy 0.5537\n",
      "test accuracy 0.5699\n",
      "test accuracy 0.5869\n",
      "test accuracy 0.5955\n",
      "test accuracy 0.6123\n",
      "test accuracy 0.6273\n",
      "test accuracy 0.6503\n",
      "test accuracy 0.6688\n",
      "test accuracy 0.6806\n",
      "test accuracy 0.6857\n",
      "test accuracy 0.6901\n",
      "test accuracy 0.6948\n",
      "test accuracy 0.6933\n",
      "test accuracy 0.695\n",
      "test accuracy 0.7017\n",
      "test accuracy 0.7086\n",
      "test accuracy 0.7172\n",
      "test accuracy 0.7259\n",
      "test accuracy 0.7358\n",
      "test accuracy 0.7452\n",
      "test accuracy 0.7512\n",
      "test accuracy 0.7515\n",
      "test accuracy 0.7571\n",
      "test accuracy 0.761\n",
      "test accuracy 0.7666\n",
      "test accuracy 0.7708\n",
      "test accuracy 0.775\n",
      "test accuracy 0.7775\n",
      "test accuracy 0.7797\n",
      "test accuracy 0.7814\n",
      "test accuracy 0.7839\n",
      "test accuracy 0.7832\n",
      "test accuracy 0.7825\n",
      "test accuracy 0.7851\n",
      "test accuracy 0.7923\n",
      "test accuracy 0.7961\n",
      "test accuracy 0.8032\n",
      "test accuracy 0.8089\n",
      "test accuracy 0.8147\n",
      "test accuracy 0.8178\n",
      "test accuracy 0.8181\n",
      "test accuracy 0.8189\n",
      "test accuracy 0.8133\n",
      "test accuracy 0.8104\n",
      "test accuracy 0.8032\n",
      "test accuracy 0.798\n",
      "test accuracy 0.7946\n",
      "test accuracy 0.7967\n",
      "test accuracy 0.804\n",
      "test accuracy 0.8093\n",
      "test accuracy 0.8147\n",
      "test accuracy 0.8197\n",
      "test accuracy 0.8245\n",
      "test accuracy 0.8313\n",
      "test accuracy 0.832\n",
      "test accuracy 0.8317\n",
      "test accuracy 0.8294\n",
      "test accuracy 0.8273\n",
      "test accuracy 0.8278\n",
      "test accuracy 0.8283\n",
      "test accuracy 0.8299\n",
      "test accuracy 0.8363\n",
      "test accuracy 0.8422\n",
      "test accuracy 0.8457\n",
      "test accuracy 0.8474\n",
      "test accuracy 0.8481\n",
      "test accuracy 0.8472\n",
      "test accuracy 0.8456\n",
      "test accuracy 0.8424\n",
      "step 100, training accuracy 0.82\n",
      "test accuracy 0.8426\n",
      "test accuracy 0.8413\n",
      "test accuracy 0.8407\n",
      "test accuracy 0.8411\n",
      "test accuracy 0.8403\n",
      "test accuracy 0.8399\n",
      "test accuracy 0.8421\n",
      "test accuracy 0.8446\n",
      "test accuracy 0.8472\n",
      "test accuracy 0.8524\n",
      "test accuracy 0.8527\n",
      "test accuracy 0.8551\n",
      "test accuracy 0.8548\n",
      "test accuracy 0.8542\n",
      "test accuracy 0.8512\n",
      "test accuracy 0.8506\n",
      "test accuracy 0.8497\n",
      "test accuracy 0.8504\n",
      "test accuracy 0.8533\n",
      "test accuracy 0.8575\n",
      "test accuracy 0.8609\n",
      "test accuracy 0.8639\n",
      "test accuracy 0.8651\n",
      "test accuracy 0.8665\n",
      "test accuracy 0.865\n",
      "test accuracy 0.8632\n",
      "test accuracy 0.8634\n",
      "test accuracy 0.8651\n",
      "test accuracy 0.8665\n",
      "test accuracy 0.8672\n",
      "test accuracy 0.8686\n",
      "test accuracy 0.8701\n",
      "test accuracy 0.8728\n",
      "test accuracy 0.8757\n",
      "test accuracy 0.877\n",
      "test accuracy 0.8772\n",
      "test accuracy 0.8776\n",
      "test accuracy 0.8768\n",
      "test accuracy 0.8764\n",
      "test accuracy 0.8755\n",
      "test accuracy 0.8778\n",
      "test accuracy 0.8813\n",
      "test accuracy 0.8828\n",
      "test accuracy 0.8834\n",
      "test accuracy 0.8847\n",
      "test accuracy 0.8858\n",
      "test accuracy 0.8852\n",
      "test accuracy 0.8856\n",
      "test accuracy 0.8871\n",
      "test accuracy 0.8864\n",
      "test accuracy 0.8861\n",
      "test accuracy 0.8882\n",
      "test accuracy 0.8898\n",
      "test accuracy 0.8906\n",
      "test accuracy 0.8918\n",
      "test accuracy 0.8934\n",
      "test accuracy 0.8945\n",
      "test accuracy 0.895\n",
      "test accuracy 0.8952\n",
      "test accuracy 0.8954\n",
      "test accuracy 0.8955\n",
      "test accuracy 0.8954\n",
      "test accuracy 0.8967\n",
      "test accuracy 0.8968\n",
      "test accuracy 0.8974\n",
      "test accuracy 0.8976\n",
      "test accuracy 0.8982\n",
      "test accuracy 0.8974\n",
      "test accuracy 0.8973\n",
      "test accuracy 0.8963\n",
      "test accuracy 0.8944\n",
      "test accuracy 0.8924\n",
      "test accuracy 0.8902\n",
      "test accuracy 0.8882\n",
      "test accuracy 0.8895\n",
      "test accuracy 0.8911\n",
      "test accuracy 0.8942\n",
      "test accuracy 0.8976\n",
      "test accuracy 0.901\n",
      "test accuracy 0.903\n",
      "test accuracy 0.9046\n",
      "test accuracy 0.9037\n",
      "test accuracy 0.902\n",
      "test accuracy 0.899\n",
      "test accuracy 0.8978\n",
      "test accuracy 0.8946\n",
      "test accuracy 0.8907\n",
      "test accuracy 0.8907\n",
      "test accuracy 0.893\n",
      "test accuracy 0.8952\n",
      "test accuracy 0.8985\n",
      "test accuracy 0.9023\n",
      "test accuracy 0.9045\n",
      "test accuracy 0.9065\n",
      "test accuracy 0.9082\n",
      "test accuracy 0.9092\n",
      "test accuracy 0.9103\n",
      "test accuracy 0.9098\n",
      "test accuracy 0.9097\n",
      "test accuracy 0.9085\n",
      "step 200, training accuracy 0.86\n",
      "test accuracy 0.9074\n",
      "test accuracy 0.9069\n",
      "test accuracy 0.9063\n",
      "test accuracy 0.9066\n",
      "test accuracy 0.908\n",
      "test accuracy 0.9075\n",
      "test accuracy 0.9078\n",
      "test accuracy 0.9084\n",
      "test accuracy 0.909\n",
      "test accuracy 0.9095\n",
      "test accuracy 0.9102\n",
      "test accuracy 0.9105\n",
      "test accuracy 0.9115\n",
      "test accuracy 0.9121\n",
      "test accuracy 0.9116\n",
      "test accuracy 0.9113\n",
      "test accuracy 0.912\n",
      "test accuracy 0.9141\n",
      "test accuracy 0.9148\n",
      "test accuracy 0.9154\n",
      "test accuracy 0.9139\n",
      "test accuracy 0.9132\n",
      "test accuracy 0.9117\n",
      "test accuracy 0.9099\n",
      "test accuracy 0.9078\n",
      "test accuracy 0.9061\n",
      "test accuracy 0.9078\n",
      "test accuracy 0.9088\n",
      "test accuracy 0.9098\n",
      "test accuracy 0.9122\n",
      "test accuracy 0.9141\n",
      "test accuracy 0.9147\n",
      "test accuracy 0.9165\n",
      "test accuracy 0.9176\n",
      "test accuracy 0.9162\n",
      "test accuracy 0.9158\n",
      "test accuracy 0.9149\n",
      "test accuracy 0.9146\n",
      "test accuracy 0.914\n",
      "test accuracy 0.9146\n",
      "test accuracy 0.9157\n",
      "test accuracy 0.9159\n",
      "test accuracy 0.9169\n",
      "test accuracy 0.9174\n",
      "test accuracy 0.9179\n",
      "test accuracy 0.9177\n",
      "test accuracy 0.9175\n",
      "test accuracy 0.9177\n",
      "test accuracy 0.9179\n",
      "test accuracy 0.9189\n",
      "test accuracy 0.9198\n",
      "test accuracy 0.9214\n",
      "test accuracy 0.9206\n",
      "test accuracy 0.9212\n",
      "test accuracy 0.9217\n",
      "test accuracy 0.9214\n",
      "test accuracy 0.9211\n",
      "test accuracy 0.9209\n",
      "test accuracy 0.9199\n",
      "test accuracy 0.9194\n",
      "test accuracy 0.9188\n",
      "test accuracy 0.9175\n",
      "test accuracy 0.9172\n",
      "test accuracy 0.9177\n",
      "test accuracy 0.9182\n",
      "test accuracy 0.9186\n",
      "test accuracy 0.919\n",
      "test accuracy 0.92\n",
      "test accuracy 0.9205\n",
      "test accuracy 0.9213\n",
      "test accuracy 0.9223\n",
      "test accuracy 0.9227\n",
      "test accuracy 0.9222\n",
      "test accuracy 0.9232\n"
     ]
    },
    {
     "ename": "KeyboardInterrupt",
     "evalue": "",
     "output_type": "error",
     "traceback": [
      "\u001b[0;31m---------------------------------------------------------------------------\u001b[0m",
      "\u001b[0;31mKeyboardInterrupt\u001b[0m                         Traceback (most recent call last)",
      "\u001b[0;32m<ipython-input-19-2ebc021ada1c>\u001b[0m in \u001b[0;36m<module>\u001b[0;34m()\u001b[0m\n\u001b[1;32m     10\u001b[0m \u001b[0;34m\u001b[0m\u001b[0m\n\u001b[1;32m     11\u001b[0m         print('test accuracy %g' % accuracy.eval(feed_dict={\n\u001b[0;32m---> 12\u001b[0;31m           x: mnist.test.images, y_: mnist.test.labels, keep_prob: 1.0}))\n\u001b[0m",
      "\u001b[0;32m/Users/user/anaconda/lib/python3.5/site-packages/tensorflow/python/framework/ops.py\u001b[0m in \u001b[0;36meval\u001b[0;34m(self, feed_dict, session)\u001b[0m\n\u001b[1;32m    539\u001b[0m \u001b[0;34m\u001b[0m\u001b[0m\n\u001b[1;32m    540\u001b[0m     \"\"\"\n\u001b[0;32m--> 541\u001b[0;31m     \u001b[0;32mreturn\u001b[0m \u001b[0m_eval_using_default_session\u001b[0m\u001b[0;34m(\u001b[0m\u001b[0mself\u001b[0m\u001b[0;34m,\u001b[0m \u001b[0mfeed_dict\u001b[0m\u001b[0;34m,\u001b[0m \u001b[0mself\u001b[0m\u001b[0;34m.\u001b[0m\u001b[0mgraph\u001b[0m\u001b[0;34m,\u001b[0m \u001b[0msession\u001b[0m\u001b[0;34m)\u001b[0m\u001b[0;34m\u001b[0m\u001b[0m\n\u001b[0m\u001b[1;32m    542\u001b[0m \u001b[0;34m\u001b[0m\u001b[0m\n\u001b[1;32m    543\u001b[0m \u001b[0;34m\u001b[0m\u001b[0m\n",
      "\u001b[0;32m/Users/user/anaconda/lib/python3.5/site-packages/tensorflow/python/framework/ops.py\u001b[0m in \u001b[0;36m_eval_using_default_session\u001b[0;34m(tensors, feed_dict, graph, session)\u001b[0m\n\u001b[1;32m   4083\u001b[0m                        \u001b[0;34m\"the tensor's graph is different from the session's \"\u001b[0m\u001b[0;34m\u001b[0m\u001b[0m\n\u001b[1;32m   4084\u001b[0m                        \"graph.\")\n\u001b[0;32m-> 4085\u001b[0;31m   \u001b[0;32mreturn\u001b[0m \u001b[0msession\u001b[0m\u001b[0;34m.\u001b[0m\u001b[0mrun\u001b[0m\u001b[0;34m(\u001b[0m\u001b[0mtensors\u001b[0m\u001b[0;34m,\u001b[0m \u001b[0mfeed_dict\u001b[0m\u001b[0;34m)\u001b[0m\u001b[0;34m\u001b[0m\u001b[0m\n\u001b[0m\u001b[1;32m   4086\u001b[0m \u001b[0;34m\u001b[0m\u001b[0m\n\u001b[1;32m   4087\u001b[0m \u001b[0;34m\u001b[0m\u001b[0m\n",
      "\u001b[0;32m/Users/user/anaconda/lib/python3.5/site-packages/tensorflow/python/client/session.py\u001b[0m in \u001b[0;36mrun\u001b[0;34m(self, fetches, feed_dict, options, run_metadata)\u001b[0m\n\u001b[1;32m    893\u001b[0m     \u001b[0;32mtry\u001b[0m\u001b[0;34m:\u001b[0m\u001b[0;34m\u001b[0m\u001b[0m\n\u001b[1;32m    894\u001b[0m       result = self._run(None, fetches, feed_dict, options_ptr,\n\u001b[0;32m--> 895\u001b[0;31m                          run_metadata_ptr)\n\u001b[0m\u001b[1;32m    896\u001b[0m       \u001b[0;32mif\u001b[0m \u001b[0mrun_metadata\u001b[0m\u001b[0;34m:\u001b[0m\u001b[0;34m\u001b[0m\u001b[0m\n\u001b[1;32m    897\u001b[0m         \u001b[0mproto_data\u001b[0m \u001b[0;34m=\u001b[0m \u001b[0mtf_session\u001b[0m\u001b[0;34m.\u001b[0m\u001b[0mTF_GetBuffer\u001b[0m\u001b[0;34m(\u001b[0m\u001b[0mrun_metadata_ptr\u001b[0m\u001b[0;34m)\u001b[0m\u001b[0;34m\u001b[0m\u001b[0m\n",
      "\u001b[0;32m/Users/user/anaconda/lib/python3.5/site-packages/tensorflow/python/client/session.py\u001b[0m in \u001b[0;36m_run\u001b[0;34m(self, handle, fetches, feed_dict, options, run_metadata)\u001b[0m\n\u001b[1;32m   1122\u001b[0m     \u001b[0;32mif\u001b[0m \u001b[0mfinal_fetches\u001b[0m \u001b[0;32mor\u001b[0m \u001b[0mfinal_targets\u001b[0m \u001b[0;32mor\u001b[0m \u001b[0;34m(\u001b[0m\u001b[0mhandle\u001b[0m \u001b[0;32mand\u001b[0m \u001b[0mfeed_dict_tensor\u001b[0m\u001b[0;34m)\u001b[0m\u001b[0;34m:\u001b[0m\u001b[0;34m\u001b[0m\u001b[0m\n\u001b[1;32m   1123\u001b[0m       results = self._do_run(handle, final_targets, final_fetches,\n\u001b[0;32m-> 1124\u001b[0;31m                              feed_dict_tensor, options, run_metadata)\n\u001b[0m\u001b[1;32m   1125\u001b[0m     \u001b[0;32melse\u001b[0m\u001b[0;34m:\u001b[0m\u001b[0;34m\u001b[0m\u001b[0m\n\u001b[1;32m   1126\u001b[0m       \u001b[0mresults\u001b[0m \u001b[0;34m=\u001b[0m \u001b[0;34m[\u001b[0m\u001b[0;34m]\u001b[0m\u001b[0;34m\u001b[0m\u001b[0m\n",
      "\u001b[0;32m/Users/user/anaconda/lib/python3.5/site-packages/tensorflow/python/client/session.py\u001b[0m in \u001b[0;36m_do_run\u001b[0;34m(self, handle, target_list, fetch_list, feed_dict, options, run_metadata)\u001b[0m\n\u001b[1;32m   1319\u001b[0m     \u001b[0;32mif\u001b[0m \u001b[0mhandle\u001b[0m \u001b[0;32mis\u001b[0m \u001b[0;32mNone\u001b[0m\u001b[0;34m:\u001b[0m\u001b[0;34m\u001b[0m\u001b[0m\n\u001b[1;32m   1320\u001b[0m       return self._do_call(_run_fn, self._session, feeds, fetches, targets,\n\u001b[0;32m-> 1321\u001b[0;31m                            options, run_metadata)\n\u001b[0m\u001b[1;32m   1322\u001b[0m     \u001b[0;32melse\u001b[0m\u001b[0;34m:\u001b[0m\u001b[0;34m\u001b[0m\u001b[0m\n\u001b[1;32m   1323\u001b[0m       \u001b[0;32mreturn\u001b[0m \u001b[0mself\u001b[0m\u001b[0;34m.\u001b[0m\u001b[0m_do_call\u001b[0m\u001b[0;34m(\u001b[0m\u001b[0m_prun_fn\u001b[0m\u001b[0;34m,\u001b[0m \u001b[0mself\u001b[0m\u001b[0;34m.\u001b[0m\u001b[0m_session\u001b[0m\u001b[0;34m,\u001b[0m \u001b[0mhandle\u001b[0m\u001b[0;34m,\u001b[0m \u001b[0mfeeds\u001b[0m\u001b[0;34m,\u001b[0m \u001b[0mfetches\u001b[0m\u001b[0;34m)\u001b[0m\u001b[0;34m\u001b[0m\u001b[0m\n",
      "\u001b[0;32m/Users/user/anaconda/lib/python3.5/site-packages/tensorflow/python/client/session.py\u001b[0m in \u001b[0;36m_do_call\u001b[0;34m(self, fn, *args)\u001b[0m\n\u001b[1;32m   1325\u001b[0m   \u001b[0;32mdef\u001b[0m \u001b[0m_do_call\u001b[0m\u001b[0;34m(\u001b[0m\u001b[0mself\u001b[0m\u001b[0;34m,\u001b[0m \u001b[0mfn\u001b[0m\u001b[0;34m,\u001b[0m \u001b[0;34m*\u001b[0m\u001b[0margs\u001b[0m\u001b[0;34m)\u001b[0m\u001b[0;34m:\u001b[0m\u001b[0;34m\u001b[0m\u001b[0m\n\u001b[1;32m   1326\u001b[0m     \u001b[0;32mtry\u001b[0m\u001b[0;34m:\u001b[0m\u001b[0;34m\u001b[0m\u001b[0m\n\u001b[0;32m-> 1327\u001b[0;31m       \u001b[0;32mreturn\u001b[0m \u001b[0mfn\u001b[0m\u001b[0;34m(\u001b[0m\u001b[0;34m*\u001b[0m\u001b[0margs\u001b[0m\u001b[0;34m)\u001b[0m\u001b[0;34m\u001b[0m\u001b[0m\n\u001b[0m\u001b[1;32m   1328\u001b[0m     \u001b[0;32mexcept\u001b[0m \u001b[0merrors\u001b[0m\u001b[0;34m.\u001b[0m\u001b[0mOpError\u001b[0m \u001b[0;32mas\u001b[0m \u001b[0me\u001b[0m\u001b[0;34m:\u001b[0m\u001b[0;34m\u001b[0m\u001b[0m\n\u001b[1;32m   1329\u001b[0m       \u001b[0mmessage\u001b[0m \u001b[0;34m=\u001b[0m \u001b[0mcompat\u001b[0m\u001b[0;34m.\u001b[0m\u001b[0mas_text\u001b[0m\u001b[0;34m(\u001b[0m\u001b[0me\u001b[0m\u001b[0;34m.\u001b[0m\u001b[0mmessage\u001b[0m\u001b[0;34m)\u001b[0m\u001b[0;34m\u001b[0m\u001b[0m\n",
      "\u001b[0;32m/Users/user/anaconda/lib/python3.5/site-packages/tensorflow/python/client/session.py\u001b[0m in \u001b[0;36m_run_fn\u001b[0;34m(session, feed_dict, fetch_list, target_list, options, run_metadata)\u001b[0m\n\u001b[1;32m   1304\u001b[0m           return tf_session.TF_Run(session, options,\n\u001b[1;32m   1305\u001b[0m                                    \u001b[0mfeed_dict\u001b[0m\u001b[0;34m,\u001b[0m \u001b[0mfetch_list\u001b[0m\u001b[0;34m,\u001b[0m \u001b[0mtarget_list\u001b[0m\u001b[0;34m,\u001b[0m\u001b[0;34m\u001b[0m\u001b[0m\n\u001b[0;32m-> 1306\u001b[0;31m                                    status, run_metadata)\n\u001b[0m\u001b[1;32m   1307\u001b[0m \u001b[0;34m\u001b[0m\u001b[0m\n\u001b[1;32m   1308\u001b[0m     \u001b[0;32mdef\u001b[0m \u001b[0m_prun_fn\u001b[0m\u001b[0;34m(\u001b[0m\u001b[0msession\u001b[0m\u001b[0;34m,\u001b[0m \u001b[0mhandle\u001b[0m\u001b[0;34m,\u001b[0m \u001b[0mfeed_dict\u001b[0m\u001b[0;34m,\u001b[0m \u001b[0mfetch_list\u001b[0m\u001b[0;34m)\u001b[0m\u001b[0;34m:\u001b[0m\u001b[0;34m\u001b[0m\u001b[0m\n",
      "\u001b[0;31mKeyboardInterrupt\u001b[0m: "
     ]
    }
   ],
   "source": [
    "with tf.Session() as sess:\n",
    "    sess.run(tf.global_variables_initializer())\n",
    "    for i in range(20000):\n",
    "        batch = mnist.train.next_batch(50)\n",
    "        if i % 100 == 0:\n",
    "            train_accuracy = accuracy.eval(feed_dict={\n",
    "              x: batch[0], y_: batch[1], keep_prob: 1.0})\n",
    "            print('step %d, training accuracy %g' % (i, train_accuracy))\n",
    "        train_step.run(feed_dict={x: batch[0], y_: batch[1], keep_prob: 0.5})\n",
    "\n",
    "        print('test accuracy %g' % accuracy.eval(feed_dict={\n",
    "          x: mnist.test.images, y_: mnist.test.labels, keep_prob: 1.0}))"
   ]
  },
  {
   "cell_type": "code",
   "execution_count": null,
   "metadata": {},
   "outputs": [],
   "source": []
  }
 ],
 "metadata": {
  "anaconda-cloud": {},
  "kernelspec": {
   "display_name": "Python [conda root]",
   "language": "python",
   "name": "conda-root-py"
  },
  "language_info": {
   "codemirror_mode": {
    "name": "ipython",
    "version": 3
   },
   "file_extension": ".py",
   "mimetype": "text/x-python",
   "name": "python",
   "nbconvert_exporter": "python",
   "pygments_lexer": "ipython3",
   "version": "3.5.4"
  }
 },
 "nbformat": 4,
 "nbformat_minor": 2
}
