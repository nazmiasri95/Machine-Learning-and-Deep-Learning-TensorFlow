{
 "cells": [
  {
   "cell_type": "code",
   "execution_count": 1,
   "metadata": {},
   "outputs": [],
   "source": [
    "import numpy as np\n",
    "import tensorflow as tf"
   ]
  },
  {
   "cell_type": "code",
   "execution_count": 5,
   "metadata": {},
   "outputs": [
    {
     "name": "stdout",
     "output_type": "stream",
     "text": [
      "12\n"
     ]
    }
   ],
   "source": [
    "# Test TensorFlow variable with name\n",
    "# Name is used for later when using TensorBoard\n",
    "graph = tf.Graph()\n",
    "with graph.as_default():\n",
    "    variable = tf.Variable(12, name=\"number\")\n",
    "    initialize = tf.global_variables_initializer()\n",
    "\n",
    "with tf.Session(graph=graph) as sess:\n",
    "    sess.run(initialize)\n",
    "    print(sess.run(variable))"
   ]
  },
  {
   "cell_type": "code",
   "execution_count": 23,
   "metadata": {},
   "outputs": [
    {
     "name": "stdout",
     "output_type": "stream",
     "text": [
      "[[ 0.96158004]]\n"
     ]
    }
   ],
   "source": [
    "# Test TensorFlow variable with calculation\n",
    "# Here we declare the graph and putting the session on top of the graph\n",
    "# All the variables are initialized first then later use in session\n",
    "graph = tf.Graph()\n",
    "with graph.as_default():\n",
    "    x = tf.Variable([[1.0, 2.0]], name=\"input\")\n",
    "    weight = tf.Variable([[0.74],[0.74]], name=\"weight\")\n",
    "    y = tf.add(tf.matmul(x, weight), 1.0)\n",
    "    y_ = tf.sigmoid(y)\n",
    "    initialize = tf.global_variables_initializer()\n",
    "\n",
    "with tf.Session(graph=graph) as sess:\n",
    "    sess.run(initialize)\n",
    "    print(sess.run(y_))"
   ]
  },
  {
   "cell_type": "code",
   "execution_count": 28,
   "metadata": {},
   "outputs": [
    {
     "name": "stdout",
     "output_type": "stream",
     "text": [
      "[[ 0.69723761  0.64226818]\n",
      " [ 0.73729724  1.08212852]]\n"
     ]
    }
   ],
   "source": [
    "# Test TensorFlow Placeholder\n",
    "# Placeholder - usually used as a place to be filled (input and output)\n",
    "# Variables - usually to store and retrieve the data\n",
    "x = tf.placeholder(tf.float32, shape=(2, 2))\n",
    "y = tf.matmul(x, x)\n",
    "\n",
    "with tf.Session() as sess:\n",
    "    # Need to feed the placeholder first before running\n",
    "    rand_array = np.random.rand(2, 2)\n",
    "    print(sess.run(y, feed_dict={x: rand_array}))"
   ]
  },
  {
   "cell_type": "code",
   "execution_count": 36,
   "metadata": {},
   "outputs": [
    {
     "name": "stdout",
     "output_type": "stream",
     "text": [
      "18\n",
      "2.3\n"
     ]
    }
   ],
   "source": [
    "# Test TensorFlow assigning variables with new value\n",
    "graph = tf.Graph()\n",
    "with graph.as_default():\n",
    "    variable = tf.Variable(12, name=\"number\")\n",
    "    variable = variable.assign(18)\n",
    "    \n",
    "    variable_2 = tf.Variable(1.32, name=\"float\")\n",
    "    variable_2 = variable_2.assign(2.3)\n",
    "    \n",
    "    initialize = tf.global_variables_initializer()\n",
    "\n",
    "with tf.Session(graph=graph) as sess:\n",
    "    sess.run(initialize)\n",
    "    print(sess.run(variable))\n",
    "    print(sess.run(variable_2))"
   ]
  },
  {
   "cell_type": "code",
   "execution_count": null,
   "metadata": {},
   "outputs": [],
   "source": []
  }
 ],
 "metadata": {
  "anaconda-cloud": {},
  "kernelspec": {
   "display_name": "Python [conda root]",
   "language": "python",
   "name": "conda-root-py"
  },
  "language_info": {
   "codemirror_mode": {
    "name": "ipython",
    "version": 3
   },
   "file_extension": ".py",
   "mimetype": "text/x-python",
   "name": "python",
   "nbconvert_exporter": "python",
   "pygments_lexer": "ipython3",
   "version": "3.5.4"
  }
 },
 "nbformat": 4,
 "nbformat_minor": 2
}
